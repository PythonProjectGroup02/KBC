{
 "cells": [
  {
   "cell_type": "code",
   "execution_count": 13,
   "metadata": {},
   "outputs": [],
   "source": [
    "def crawling_kbo_dayRanking() :\n",
    "    from bs4 import BeautifulSoup\n",
    "    import urllib.request as req\n",
    "    import pandas as pd\n",
    "\n",
    "    # # 현재 시간\n",
    "    # import time\n",
    "    # year = time.localtime().tm_year\n",
    "    # month = time.localtime().tm_mon\n",
    "    # day = time.localtime().tm_mday\n",
    "    # current_date = f'{year}.{str(month).zfill(2)}.{str(day).zfill(2)}'\n",
    "\n",
    "    url = 'https://www.koreabaseball.com/Record/TeamRank/TeamRankDaily.aspx'\n",
    "    res = req.urlopen(url)\n",
    "    soup = BeautifulSoup(res, 'html.parser')\n",
    "    date = soup.find_all('span', attrs='date')[0].text\n",
    "\n",
    "    # print('현재 날짜 : ', current_date)\n",
    "    # print('KBO 날짜 : ', date)\n",
    "\n",
    "    # if current_date == date :\n",
    "    #     return\n",
    "\n",
    "    result = []\n",
    "    \n",
    "    for index in range(10) :\n",
    "        team_info = soup.select('table > tbody tr')[index]\n",
    "        datas = team_info.select('td')\n",
    "\n",
    "        result_dict = {\n",
    "            '순위' : datas[0].text,\n",
    "            '팀명' : datas[1].text,\n",
    "            '경기 수' : datas[2].text,\n",
    "            '승리 수' : datas[3].text,\n",
    "            '패배 수' : datas[4].text,\n",
    "            '무승부 수' : datas[5].text,\n",
    "            '승률' : datas[6].text,\n",
    "            '게임차' : datas[7].text,\n",
    "            '최근 10경기 전적' : datas[8].text,\n",
    "            '연속 현황' : datas[9].text,\n",
    "            '홈 경기 전적' : datas[10].text,\n",
    "            '원정 경기 전적' : datas[11].text\n",
    "        }\n",
    "\n",
    "        result.append(result_dict)\n",
    "    \n",
    "    pd.DataFrame(result).to_csv('./Data/rank/day_rank.csv', index=None)\n"
   ]
  },
  {
   "cell_type": "code",
   "execution_count": 4,
   "metadata": {},
   "outputs": [],
   "source": [
    "import pandas as pd\n",
    "df = pd.read_csv('./Data/rank/day_rank.csv')\n",
    "df.columns = ['rank', 'team', 'totalgames', 'win', 'loss', 'draw', 'winningrate', 'gamesbehind', 'tengamesrecord', 'streak', 'home', 'away', 'date']\n",
    "\n",
    "result = []\n",
    "\n",
    "for index in range(len(df)) :\n",
    "    result.append(df.loc[index, :].to_dict())"
   ]
  },
  {
   "cell_type": "code",
   "execution_count": 43,
   "metadata": {},
   "outputs": [
    {
     "data": {
      "text/plain": [
       "<pandas.core.strings.accessor.StringMethods at 0x13ff0e290>"
      ]
     },
     "execution_count": 43,
     "metadata": {},
     "output_type": "execute_result"
    }
   ],
   "source": [
    "df['tengamesrecord'].str"
   ]
  },
  {
   "cell_type": "code",
   "execution_count": 44,
   "metadata": {},
   "outputs": [
    {
     "data": {
      "text/plain": [
       "'0   NaN\\n1   NaN\\n2   NaN\\n3   NaN\\n4   NaN\\n5   NaN\\n6   NaN\\n7   NaN\\n8   NaN\\n9   NaN\\nName: tengamesrecord, dtype: float64-0   NaN\\n1   NaN\\n2   NaN\\n3   NaN\\n4   NaN\\n5   NaN\\n6   NaN\\n7   NaN\\n8   NaN\\n9   NaN\\nName: tengamesrecord, dtype: float64-0   NaN\\n1   NaN\\n2   NaN\\n3   NaN\\n4   NaN\\n5   NaN\\n6   NaN\\n7   NaN\\n8   NaN\\n9   NaN\\nName: tengamesrecord, dtype: float64'"
      ]
     },
     "execution_count": 44,
     "metadata": {},
     "output_type": "execute_result"
    }
   ],
   "source": [
    "test = df['tengamesrecord'].str\n",
    "\n",
    "win_index = test.find(\"승\") + 1\n",
    "draw_index = test.find(\"무\") + 1\n",
    "loss_index = test.find(\"패\") + 1\n",
    "\n",
    "f\"{test[:win_index]}-{test[win_index:draw_index]}-{test[draw_index:loss_index]}\""
   ]
  },
  {
   "cell_type": "code",
   "execution_count": 14,
   "metadata": {},
   "outputs": [],
   "source": [
    "crawling_kbo_dayRanking()"
   ]
  },
  {
   "cell_type": "code",
   "execution_count": 76,
   "metadata": {},
   "outputs": [
    {
     "name": "stdout",
     "output_type": "stream",
     "text": [
      "0\n",
      "1\n",
      "2\n",
      "3\n",
      "4\n",
      "5\n",
      "6\n",
      "7\n",
      "8\n",
      "9\n"
     ]
    }
   ],
   "source": [
    "for index in range(10) :\n",
    "    print(index)"
   ]
  },
  {
   "cell_type": "code",
   "execution_count": 32,
   "metadata": {},
   "outputs": [
    {
     "data": {
      "text/plain": [
       "{'date': '2024-6-13',\n",
       " 'home': '롯데',\n",
       " 'homeRank': 8,\n",
       " 'away': '키움',\n",
       " 'awayRank': 10}"
      ]
     },
     "execution_count": 32,
     "metadata": {},
     "output_type": "execute_result"
    }
   ],
   "source": [
    "import pandas as pd\n",
    "# 6,13,목,롯데,키움,부산\n",
    "select_month = 6\n",
    "select_day = 13\n",
    "home = \"롯데\"\n",
    "away = \"키움\"\n",
    "\n",
    "# df = pd.read_csv(f\"./Data/rank/{home}_rank.csv\")\n",
    "df = pd.read_csv(\"./Data/rank/day_rank.csv\")\n",
    "\n",
    "home_rank = df[df.팀명 == home].순위.values[0]\n",
    "away_rank = df[df.팀명 == away].순위.values[0]\n",
    "\n",
    "result_dict = {\n",
    "    \"date\" : f\"2024-{select_month}-{select_day}\",\n",
    "    \"home\" : home,\n",
    "    \"homeRank\" : home_rank,\n",
    "    \"away\" : away,\n",
    "    \"awayRank\" : away_rank\n",
    "}\n",
    "\n",
    "result_dict"
   ]
  },
  {
   "cell_type": "code",
   "execution_count": null,
   "metadata": {},
   "outputs": [],
   "source": []
  },
  {
   "cell_type": "code",
   "execution_count": null,
   "metadata": {},
   "outputs": [],
   "source": []
  }
 ],
 "metadata": {
  "kernelspec": {
   "display_name": "base",
   "language": "python",
   "name": "python3"
  },
  "language_info": {
   "codemirror_mode": {
    "name": "ipython",
    "version": 3
   },
   "file_extension": ".py",
   "mimetype": "text/x-python",
   "name": "python",
   "nbconvert_exporter": "python",
   "pygments_lexer": "ipython3",
   "version": "3.11.7"
  }
 },
 "nbformat": 4,
 "nbformat_minor": 2
}
