{
 "cells": [
  {
   "cell_type": "code",
   "execution_count": 1,
   "metadata": {},
   "outputs": [],
   "source": [
    "import pandas as pd"
   ]
  },
  {
   "cell_type": "code",
   "execution_count": 14,
   "metadata": {},
   "outputs": [
    {
     "data": {
      "text/html": [
       "<div>\n",
       "<style scoped>\n",
       "    .dataframe tbody tr th:only-of-type {\n",
       "        vertical-align: middle;\n",
       "    }\n",
       "\n",
       "    .dataframe tbody tr th {\n",
       "        vertical-align: top;\n",
       "    }\n",
       "\n",
       "    .dataframe thead th {\n",
       "        text-align: right;\n",
       "    }\n",
       "</style>\n",
       "<table border=\"1\" class=\"dataframe\">\n",
       "  <thead>\n",
       "    <tr style=\"text-align: right;\">\n",
       "      <th></th>\n",
       "      <th>월</th>\n",
       "      <th>일</th>\n",
       "      <th>요일</th>\n",
       "      <th>홈</th>\n",
       "      <th>어웨이</th>\n",
       "      <th>경기장</th>\n",
       "    </tr>\n",
       "  </thead>\n",
       "  <tbody>\n",
       "    <tr>\n",
       "      <th>0</th>\n",
       "      <td>3</td>\n",
       "      <td>23</td>\n",
       "      <td>토</td>\n",
       "      <td>SSG</td>\n",
       "      <td>롯데</td>\n",
       "      <td>인천</td>\n",
       "    </tr>\n",
       "    <tr>\n",
       "      <th>1</th>\n",
       "      <td>3</td>\n",
       "      <td>24</td>\n",
       "      <td>일</td>\n",
       "      <td>SSG</td>\n",
       "      <td>롯데</td>\n",
       "      <td>인천</td>\n",
       "    </tr>\n",
       "    <tr>\n",
       "      <th>2</th>\n",
       "      <td>3</td>\n",
       "      <td>26</td>\n",
       "      <td>화</td>\n",
       "      <td>KIA</td>\n",
       "      <td>롯데</td>\n",
       "      <td>광주</td>\n",
       "    </tr>\n",
       "    <tr>\n",
       "      <th>3</th>\n",
       "      <td>3</td>\n",
       "      <td>27</td>\n",
       "      <td>수</td>\n",
       "      <td>KIA</td>\n",
       "      <td>롯데</td>\n",
       "      <td>광주</td>\n",
       "    </tr>\n",
       "    <tr>\n",
       "      <th>4</th>\n",
       "      <td>3</td>\n",
       "      <td>28</td>\n",
       "      <td>목</td>\n",
       "      <td>KIA</td>\n",
       "      <td>롯데</td>\n",
       "      <td>광주</td>\n",
       "    </tr>\n",
       "    <tr>\n",
       "      <th>...</th>\n",
       "      <td>...</td>\n",
       "      <td>...</td>\n",
       "      <td>...</td>\n",
       "      <td>...</td>\n",
       "      <td>...</td>\n",
       "      <td>...</td>\n",
       "    </tr>\n",
       "    <tr>\n",
       "      <th>129</th>\n",
       "      <td>8</td>\n",
       "      <td>24</td>\n",
       "      <td>토</td>\n",
       "      <td>삼성</td>\n",
       "      <td>롯데</td>\n",
       "      <td>대구</td>\n",
       "    </tr>\n",
       "    <tr>\n",
       "      <th>130</th>\n",
       "      <td>8</td>\n",
       "      <td>25</td>\n",
       "      <td>일</td>\n",
       "      <td>삼성</td>\n",
       "      <td>롯데</td>\n",
       "      <td>대구</td>\n",
       "    </tr>\n",
       "    <tr>\n",
       "      <th>131</th>\n",
       "      <td>8</td>\n",
       "      <td>27</td>\n",
       "      <td>화</td>\n",
       "      <td>롯데</td>\n",
       "      <td>한화</td>\n",
       "      <td>부산</td>\n",
       "    </tr>\n",
       "    <tr>\n",
       "      <th>132</th>\n",
       "      <td>8</td>\n",
       "      <td>28</td>\n",
       "      <td>수</td>\n",
       "      <td>롯데</td>\n",
       "      <td>한화</td>\n",
       "      <td>부산</td>\n",
       "    </tr>\n",
       "    <tr>\n",
       "      <th>133</th>\n",
       "      <td>8</td>\n",
       "      <td>29</td>\n",
       "      <td>목</td>\n",
       "      <td>롯데</td>\n",
       "      <td>한화</td>\n",
       "      <td>부산</td>\n",
       "    </tr>\n",
       "  </tbody>\n",
       "</table>\n",
       "<p>134 rows × 6 columns</p>\n",
       "</div>"
      ],
      "text/plain": [
       "     월   일 요일    홈 어웨이 경기장\n",
       "0    3  23  토  SSG  롯데  인천\n",
       "1    3  24  일  SSG  롯데  인천\n",
       "2    3  26  화  KIA  롯데  광주\n",
       "3    3  27  수  KIA  롯데  광주\n",
       "4    3  28  목  KIA  롯데  광주\n",
       "..  ..  .. ..  ...  ..  ..\n",
       "129  8  24  토   삼성  롯데  대구\n",
       "130  8  25  일   삼성  롯데  대구\n",
       "131  8  27  화   롯데  한화  부산\n",
       "132  8  28  수   롯데  한화  부산\n",
       "133  8  29  목   롯데  한화  부산\n",
       "\n",
       "[134 rows x 6 columns]"
      ]
     },
     "execution_count": 14,
     "metadata": {},
     "output_type": "execute_result"
    }
   ],
   "source": [
    "myteam = pd.read_csv('schedule/lotte.csv')\n",
    "myteam"
   ]
  },
  {
   "cell_type": "code",
   "execution_count": 16,
   "metadata": {},
   "outputs": [
    {
     "data": {
      "text/plain": [
       "0    인천\n",
       "Name: 경기장, dtype: object"
      ]
     },
     "execution_count": 16,
     "metadata": {},
     "output_type": "execute_result"
    }
   ],
   "source": [
    "away = myteam[(myteam['월']==3) & (myteam['일']==23)]['어웨이']\n",
    "home = myteam[(myteam['월']==3) & (myteam['일']==23)]['홈']\n",
    "where= myteam[(myteam['월']==3) & (myteam['일']==23)]['경기장']"
   ]
  },
  {
   "cell_type": "code",
   "execution_count": 17,
   "metadata": {},
   "outputs": [
    {
     "name": "stdout",
     "output_type": "stream",
     "text": [
      "<class 'pandas.core.frame.DataFrame'>\n",
      "RangeIndex: 134 entries, 0 to 133\n",
      "Data columns (total 6 columns):\n",
      " #   Column  Non-Null Count  Dtype \n",
      "---  ------  --------------  ----- \n",
      " 0   월       134 non-null    int64 \n",
      " 1   일       134 non-null    int64 \n",
      " 2   요일      134 non-null    object\n",
      " 3   홈       134 non-null    object\n",
      " 4   어웨이     134 non-null    object\n",
      " 5   경기장     134 non-null    object\n",
      "dtypes: int64(2), object(4)\n",
      "memory usage: 6.4+ KB\n"
     ]
    }
   ],
   "source": [
    "myteam.info()"
   ]
  },
  {
   "cell_type": "code",
   "execution_count": null,
   "metadata": {},
   "outputs": [],
   "source": []
  }
 ],
 "metadata": {
  "kernelspec": {
   "display_name": "base",
   "language": "python",
   "name": "python3"
  },
  "language_info": {
   "codemirror_mode": {
    "name": "ipython",
    "version": 3
   },
   "file_extension": ".py",
   "mimetype": "text/x-python",
   "name": "python",
   "nbconvert_exporter": "python",
   "pygments_lexer": "ipython3",
   "version": "3.1.undefined"
  }
 },
 "nbformat": 4,
 "nbformat_minor": 2
}
