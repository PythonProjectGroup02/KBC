{
 "cells": [
  {
   "cell_type": "markdown",
   "metadata": {},
   "source": [
    "---\n",
    "- 작성자 : 이휘\n",
    "- 작성일 : 2024-06-04\n",
    "---"
   ]
  },
  {
   "cell_type": "code",
   "execution_count": 1,
   "metadata": {},
   "outputs": [],
   "source": [
    "# 데이터 프레임과 계산을 위한 라이브러리\n",
    "import pandas as pd\n",
    "import numpy as np\n",
    "\n",
    "# 차트\n",
    "import matplotlib.pyplot as plt\n",
    "import seaborn as sns"
   ]
  },
  {
   "cell_type": "code",
   "execution_count": 2,
   "metadata": {},
   "outputs": [],
   "source": [
    "# 차트 경고 메세지 무시\n",
    "import warnings\n",
    "warnings.filterwarnings('ignore')"
   ]
  },
  {
   "cell_type": "code",
   "execution_count": null,
   "metadata": {},
   "outputs": [],
   "source": [
    "# 한글 폰트 문제 해결 \n",
    "# matplotlib은 한글 폰트를 지원하지 않음\n",
    "# os정보\n",
    "import platform\n",
    "\n",
    "# font_manager : 폰트 관리 모듈\n",
    "# rc : 폰트 변경 모듈\n",
    "from matplotlib import font_manager, rc\n",
    "# unicode 설정\n",
    "plt.rcParams['axes.unicode_minus'] = False\n",
    "\n",
    "if platform.system() == 'Darwin':\n",
    "    rc('font', family='AppleGothic') # os가 macos\n",
    "elif platform.system() == 'Windows':\n",
    "    path = 'c:/Windows/Fonts/malgun.ttf' # os가 windows\n",
    "    font_name = font_manager.FontProperties(fname=path).get_name()\n",
    "    rc('font', family=font_name)\n",
    "else:\n",
    "    print(\"Unknown System\")"
   ]
  },
  {
   "cell_type": "code",
   "execution_count": null,
   "metadata": {},
   "outputs": [],
   "source": [
    "# 날짜, 요일, 홈팀, 원정팀, 장소, 관중 수 데이터 불러오기\n",
    "data_01 = pd.read_csv(\"./Data/kiwoom_heroes_info(2022~2024).csv\")\n",
    "data_01.head()"
   ]
  },
  {
   "cell_type": "code",
   "execution_count": null,
   "metadata": {},
   "outputs": [],
   "source": [
    "# 속성 확인\n",
    "data_01.info()"
   ]
  },
  {
   "cell_type": "code",
   "execution_count": null,
   "metadata": {},
   "outputs": [],
   "source": [
    "# 날짜 데이터를 datetime으로 type으규식 로 변환할 수 있게 정사용하여 데이터 변환\n",
    "data_01['날짜'] = data_01['날짜'].str.replace(r'\\([가-힣]\\)', '', regex=True)\n",
    "# 날짜 컬럼을 datetime으로 type 변환\n",
    "data_01['날짜'] = pd.to_datetime(data_01['날짜'])\n",
    "data_01.head()"
   ]
  },
  {
   "cell_type": "code",
   "execution_count": null,
   "metadata": {},
   "outputs": [],
   "source": [
    "# 속성 확인\n",
    "data_01.info()"
   ]
  },
  {
   "cell_type": "code",
   "execution_count": null,
   "metadata": {},
   "outputs": [],
   "source": [
    "# 날짜, 요일, 홈팀, 원정팀, 장소, 관중 수 데이터 불러오기\n",
    "data_02 = pd.read_csv(\"./Data/test.csv\")\n",
    "data_02.head()"
   ]
  },
  {
   "cell_type": "code",
   "execution_count": null,
   "metadata": {},
   "outputs": [],
   "source": [
    "# 필요한 데이터 병합하기\n",
    "kiwoom = pd.concat(\n",
    "    [\n",
    "        data_01['날짜'],\n",
    "        data_01['요일'],\n",
    "        data_01['원정팀'],\n",
    "        data_01['관중 수'],\n",
    "        data_02['시작시간']\n",
    "    ],\n",
    "    axis=1\n",
    "    )\n",
    "kiwoom"
   ]
  },
  {
   "cell_type": "code",
   "execution_count": null,
   "metadata": {},
   "outputs": [],
   "source": [
    "# 속성 확인\n",
    "kiwoom.info()"
   ]
  },
  {
   "cell_type": "code",
   "execution_count": null,
   "metadata": {},
   "outputs": [],
   "source": [
    "# 연도, 월 컬럼으로 분리하기\n",
    "kiwoom['연도'] = kiwoom['날짜'].dt.year\n",
    "kiwoom"
   ]
  },
  {
   "cell_type": "code",
   "execution_count": null,
   "metadata": {},
   "outputs": [],
   "source": [
    "# 속성 확인\n",
    "kiwoom.info()"
   ]
  },
  {
   "cell_type": "markdown",
   "metadata": {},
   "source": [
    "----\n",
    "### 목표 : 2022~2023년 데이터와 2024년 데이터 분리하기\n",
    "> 관중 수 예측 모델을 만들어 2022~2023년 데이터를 train 데이터로 학습시키고 <br>\n",
    "학습한 예측 모델을 가지고 2024 데이터를 test 데이터로 사용하자"
   ]
  },
  {
   "cell_type": "code",
   "execution_count": null,
   "metadata": {},
   "outputs": [],
   "source": [
    "# 2022~2023년 데이터와 2024년 데이터 분리\n",
    "kiwoom_2022_2023 = \\\n",
    "    kiwoom[(kiwoom['연도'] == 2022) | (kiwoom['연도'] == 2023)]\n",
    "kiwoom_2024 = kiwoom[kiwoom['연도'] == 2024]\n",
    "kiwoom_2024 = kiwoom_2024.reset_index(drop=True)"
   ]
  },
  {
   "cell_type": "code",
   "execution_count": null,
   "metadata": {},
   "outputs": [],
   "source": [
    "# 분리 되었는지 확인\n",
    "kiwoom_2022_2023['연도'].unique()"
   ]
  },
  {
   "cell_type": "code",
   "execution_count": null,
   "metadata": {},
   "outputs": [],
   "source": [
    "# 분리 되었는지 확인\n",
    "kiwoom_2024['연도'].unique()"
   ]
  },
  {
   "cell_type": "code",
   "execution_count": null,
   "metadata": {},
   "outputs": [],
   "source": [
    "# 스타일\n",
    "plt.style.use('classic')\n",
    "\n",
    "kiwoom_2022_2023['관중 수'].plot(\n",
    "    kind='hist',\n",
    "    bins=20,\n",
    "    color='coral',\n",
    "    figsize=(15,7)\n",
    ")\n",
    "\n",
    "plt.title('Historam')\n",
    "plt.xlabel('Fan')\n",
    "\n",
    "plt.show()"
   ]
  },
  {
   "cell_type": "markdown",
   "metadata": {},
   "source": [
    "----\n",
    "#### 2022~2023년 요일별 관중 수"
   ]
  },
  {
   "cell_type": "code",
   "execution_count": null,
   "metadata": {},
   "outputs": [],
   "source": [
    "sns.boxplot(\n",
    "    data=kiwoom_2022_2023,\n",
    "    x='요일',\n",
    "    y='관중 수'\n",
    ")\n",
    "plt.title('KBO 리그 요일별 2022~2023년 요일별 관중 수')\n",
    "plt.show()"
   ]
  },
  {
   "cell_type": "code",
   "execution_count": null,
   "metadata": {},
   "outputs": [],
   "source": [
    "# # plt.scatter(x, kiwoom_2022_2023['관중 수'], s=area, c=colors, alpha=0.5)\n",
    "# plt.figure(figsize=(10, 6))\n",
    "# plt.scatter(kiwoom_2022_2023.index, kiwoom_2022_2023['관중 수'])\n",
    "# # 그래프 표시\n",
    "# plt.show()"
   ]
  },
  {
   "cell_type": "code",
   "execution_count": null,
   "metadata": {},
   "outputs": [],
   "source": [
    "# 데이터 불러오기 (kiwoom_2022_2023 DataFrame)\n",
    "data = kiwoom_2022_2023.groupby('요일')['관중 수'].mean().sort_values()\n",
    "\n",
    "# 막대 그래프 생성\n",
    "plt.figure(figsize=(10, 6))\n",
    "plt.bar(data.index, data.values, color='skyblue')  # 요일 이름 사용\n",
    "plt.xlabel(\"요일\")\n",
    "plt.ylabel(\"평균 관중 수\")\n",
    "plt.ylim(3000,10000)\n",
    "plt.title(\"KBO 리그 요일별 평균 관중 수(2022~2023년)\")\n",
    "\n",
    "# 그래프 표시\n",
    "plt.show()"
   ]
  },
  {
   "cell_type": "markdown",
   "metadata": {},
   "source": [
    "> 목요일이 가장 평균 관중 수가 가장 낮고, 토요일이 가장 높다. <br>\n",
    "> 상관 관계를 위해 위의 데이터를 수치화 작업하자 <br>\n",
    "> 목요일 -> 1<br>\n",
    "> 수요일 -> 2<br>\n",
    "> 화요일 -> 3<br>\n",
    "> 금요일 -> 4<br>\n",
    "> 일요일 -> 5<br>\n",
    "> 토요일 -> 6<br>"
   ]
  },
  {
   "cell_type": "code",
   "execution_count": null,
   "metadata": {},
   "outputs": [],
   "source": [
    "# 변환\n",
    "day_mapping = {\n",
    "    '목': 1,\n",
    "    '수': 2,\n",
    "    '화': 3,\n",
    "    '금': 4,\n",
    "    '일': 5,\n",
    "    '토': 6\n",
    "}\n",
    "# 변환 적용\n",
    "kiwoom_2022_2023['요일'].replace(day_mapping, inplace=True)\n",
    "kiwoom_2024['요일'].replace(day_mapping, inplace=True)"
   ]
  },
  {
   "cell_type": "code",
   "execution_count": null,
   "metadata": {},
   "outputs": [],
   "source": [
    "kiwoom_2022_2023"
   ]
  },
  {
   "cell_type": "code",
   "execution_count": null,
   "metadata": {},
   "outputs": [],
   "source": [
    "kiwoom_2022_2023[['요일','관중 수']].corr()"
   ]
  },
  {
   "cell_type": "code",
   "execution_count": null,
   "metadata": {},
   "outputs": [],
   "source": [
    "sns.boxplot(\n",
    "    data=kiwoom_2022_2023,\n",
    "    x='시작시간',\n",
    "    y='관중 수',\n",
    ")\n",
    "plt.title(\"KBO 리그 시작시간별 평균 관중 수(2022~2023년)\")\n",
    "plt.show()"
   ]
  },
  {
   "cell_type": "markdown",
   "metadata": {},
   "source": [
    "### 시작 시간\n",
    "- 야구 시작시간<br>\n",
    "- 주말 -> 14:00, 17:00<br>\n",
    "- 평일 -> 18:30<br>\n",
    "- 혹서기 한정 -> 18:00(7,8월일 때 17:00 경기를 1시간 미룸)"
   ]
  },
  {
   "cell_type": "code",
   "execution_count": null,
   "metadata": {},
   "outputs": [],
   "source": [
    "kiwoom_2022_2023['시작시간'].unique()"
   ]
  },
  {
   "cell_type": "code",
   "execution_count": null,
   "metadata": {},
   "outputs": [],
   "source": [
    "# 2022~2023년 시작시간이 18:00인 데이터 확인(2건)\n",
    "kiwoom_2022_2023[kiwoom_2022_2023['시작시간'] == '18:00']"
   ]
  },
  {
   "cell_type": "code",
   "execution_count": null,
   "metadata": {},
   "outputs": [],
   "source": [
    "# 총 2건 밖에 안되므로 17:00 값으로 대체\n",
    "# 18:00 시작시간 데이터 선택\n",
    "target_rows = kiwoom_2022_2023[kiwoom_2022_2023['시작시간'] == '18:00']\n",
    "\n",
    "# 시작시간 변경\n",
    "kiwoom_2022_2023.loc[target_rows.index, '시작시간'] = '17:00'"
   ]
  },
  {
   "cell_type": "code",
   "execution_count": null,
   "metadata": {},
   "outputs": [],
   "source": [
    "# 시작시간 컬럼 속성 확인\n",
    "kiwoom_2022_2023['시작시간'].unique()"
   ]
  },
  {
   "cell_type": "markdown",
   "metadata": {},
   "source": [
    "----\n",
    "#### 2022~2023년 시작시간별 평균 관중 수"
   ]
  },
  {
   "cell_type": "code",
   "execution_count": null,
   "metadata": {},
   "outputs": [],
   "source": [
    "# 데이터 불러오기 (kiwoom_2022_2023 DataFrame)\n",
    "data = kiwoom_2022_2023.groupby('시작시간')['관중 수'].mean().sort_values()\n",
    "\n",
    "# 막대 그래프 생성\n",
    "plt.figure(figsize=(10, 6))\n",
    "plt.bar(data.index, data.values, color='skyblue')\n",
    "plt.xlabel(\"시작시간\")\n",
    "plt.ylabel(\"평균 관중 수\")\n",
    "plt.ylim(3000,10000)\n",
    "plt.title(\"KBO 리그 시작시간별 평균 관중 수(2022~2023년)\")\n",
    "\n",
    "# 그래프 표시\n",
    "plt.show()"
   ]
  },
  {
   "cell_type": "markdown",
   "metadata": {},
   "source": [
    "> 18:30이 가장 평균 관중 수가 가장 낮고, 14:00이 가장 높다. <br>\n",
    "> 상관 관계를 위해 위의 데이터를 수치화 작업하자 <br>\n",
    "> 18:30 -> 1<br>\n",
    "> 17:00 -> 2<br>\n",
    "> 14:00 -> 3<br>"
   ]
  },
  {
   "cell_type": "code",
   "execution_count": null,
   "metadata": {},
   "outputs": [],
   "source": [
    "# 변환\n",
    "day_mapping = {\n",
    "    '18:30': 1,\n",
    "    '17:00': 2,\n",
    "    '14:00': 3\n",
    "}\n",
    "\n",
    "# 변환 적용\n",
    "kiwoom_2022_2023['시작시간'].replace(day_mapping, inplace=True)\n",
    "kiwoom_2024['시작시간'].replace(day_mapping, inplace=True)"
   ]
  },
  {
   "cell_type": "code",
   "execution_count": null,
   "metadata": {},
   "outputs": [],
   "source": [
    "kiwoom_2022_2023"
   ]
  },
  {
   "cell_type": "code",
   "execution_count": null,
   "metadata": {},
   "outputs": [],
   "source": [
    "kiwoom_2022_2023[['관중 수','요일','시작시간']].corr()"
   ]
  },
  {
   "cell_type": "markdown",
   "metadata": {},
   "source": [
    "----\n",
    "#### 주중 경기/주말(공휴일) 경기 나누자"
   ]
  },
  {
   "cell_type": "code",
   "execution_count": null,
   "metadata": {},
   "outputs": [],
   "source": [
    "len(kiwoom_2022_2023.loc[(kiwoom_2022_2023['요일'] == 5) | (kiwoom_2022_2023['요일'] == 6)])"
   ]
  },
  {
   "cell_type": "code",
   "execution_count": null,
   "metadata": {},
   "outputs": [],
   "source": [
    "kiwoom_2022_2023[kiwoom_2022_2023['연도'] == 2022]"
   ]
  },
  {
   "cell_type": "markdown",
   "metadata": {},
   "source": [
    "> 2022년 공휴일(월, 주말 제외)<br>\n",
    "05-05, 06-01, 09-09"
   ]
  },
  {
   "cell_type": "code",
   "execution_count": null,
   "metadata": {},
   "outputs": [],
   "source": [
    "kiwoom_2022_2023[kiwoom_2022_2023['날짜'] == '2022-06-01']"
   ]
  },
  {
   "cell_type": "code",
   "execution_count": null,
   "metadata": {},
   "outputs": [],
   "source": [
    "kiwoom_2022_2023[kiwoom_2022_2023['날짜'] == '2022-09-09']"
   ]
  },
  {
   "cell_type": "code",
   "execution_count": null,
   "metadata": {},
   "outputs": [],
   "source": [
    "kiwoom_2022_2023[kiwoom_2022_2023['연도'] == 2023]"
   ]
  },
  {
   "cell_type": "markdown",
   "metadata": {},
   "source": [
    "> 2022년 공휴일(월, 주말 제외)<br>\n",
    "05-05, 06-06, 08-15, 09-28, 09-29"
   ]
  },
  {
   "cell_type": "code",
   "execution_count": null,
   "metadata": {},
   "outputs": [],
   "source": [
    "kiwoom_2022_2023[kiwoom_2022_2023['날짜'] == '2023-05-05']"
   ]
  },
  {
   "cell_type": "code",
   "execution_count": null,
   "metadata": {},
   "outputs": [],
   "source": [
    "kiwoom_2022_2023[kiwoom_2022_2023['날짜'] == '2023-06-06']"
   ]
  },
  {
   "cell_type": "code",
   "execution_count": null,
   "metadata": {},
   "outputs": [],
   "source": [
    "kiwoom_2022_2023[kiwoom_2022_2023['날짜'] == '2023-09-28']"
   ]
  },
  {
   "cell_type": "code",
   "execution_count": null,
   "metadata": {},
   "outputs": [],
   "source": [
    "kiwoom_2022_2023[kiwoom_2022_2023['날짜'] == '2023-09-29']"
   ]
  },
  {
   "cell_type": "code",
   "execution_count": null,
   "metadata": {},
   "outputs": [],
   "source": [
    "kiwoom_2022_2023[kiwoom_2022_2023['날짜'] == '2022-06-01']\n",
    "kiwoom_2022_2023[kiwoom_2022_2023['날짜'] == '2022-09-09']\n",
    "kiwoom_2022_2023[kiwoom_2022_2023['날짜'] == '2023-05-05']\n",
    "kiwoom_2022_2023[kiwoom_2022_2023['날짜'] == '2023-06-06']\n",
    "kiwoom_2022_2023[kiwoom_2022_2023['날짜'] == '2023-09-28']\n",
    "kiwoom_2022_2023[kiwoom_2022_2023['날짜'] == '2023-09-29']"
   ]
  },
  {
   "cell_type": "code",
   "execution_count": null,
   "metadata": {},
   "outputs": [],
   "source": [
    "kiwoom_2022_2023['주중/주말(공휴일)'] = ''"
   ]
  },
  {
   "cell_type": "code",
   "execution_count": null,
   "metadata": {},
   "outputs": [],
   "source": [
    "holidays = ['2022-06-01', '2022-09-09', '2023-05-05', '2023-06-06', '2023-09-28', '2023-09-29']\n",
    "\n",
    "for holiday in holidays:\n",
    "    kiwoom_2022_2023.loc[kiwoom_2022_2023['날짜'] == holiday, '주중/주말(공휴일)'] = 1"
   ]
  },
  {
   "cell_type": "code",
   "execution_count": null,
   "metadata": {},
   "outputs": [],
   "source": [
    "kiwoom_2022_2023.loc[kiwoom_2022_2023['요일'] == 5, '주중/주말(공휴일)'] = 1\n",
    "kiwoom_2022_2023"
   ]
  },
  {
   "cell_type": "code",
   "execution_count": null,
   "metadata": {},
   "outputs": [],
   "source": [
    "kiwoom_2022_2023.loc[kiwoom_2022_2023['요일'] == 6, '주중/주말(공휴일)'] = 1\n",
    "kiwoom_2022_2023"
   ]
  },
  {
   "cell_type": "code",
   "execution_count": null,
   "metadata": {},
   "outputs": [],
   "source": [
    "kiwoom_2022_2023.loc[kiwoom_2022_2023['주중/주말(공휴일)'] != 1, '주중/주말(공휴일)'] = 0\n",
    "kiwoom_2022_2023"
   ]
  },
  {
   "cell_type": "code",
   "execution_count": null,
   "metadata": {},
   "outputs": [],
   "source": [
    "kiwoom_2022_2023['주중/주말(공휴일)'].isnull().sum()"
   ]
  },
  {
   "cell_type": "code",
   "execution_count": null,
   "metadata": {},
   "outputs": [],
   "source": [
    "kiwoom_2022_2023['주중/주말(공휴일)'] = kiwoom_2022_2023['주중/주말(공휴일)'].astype('int')\n",
    "kiwoom_2022_2023"
   ]
  },
  {
   "cell_type": "code",
   "execution_count": null,
   "metadata": {},
   "outputs": [],
   "source": [
    "kiwoom_2022_2023[['관중 수','주중/주말(공휴일)','요일','시작시간']].corr()"
   ]
  },
  {
   "cell_type": "code",
   "execution_count": null,
   "metadata": {},
   "outputs": [],
   "source": [
    "kiwoom_2024"
   ]
  },
  {
   "cell_type": "code",
   "execution_count": null,
   "metadata": {},
   "outputs": [],
   "source": [
    "kiwoom_2024.loc[kiwoom_2024['요일'] == 5, '주중/주말(공휴일)'] = 1\n",
    "kiwoom_2024"
   ]
  },
  {
   "cell_type": "code",
   "execution_count": null,
   "metadata": {},
   "outputs": [],
   "source": [
    "kiwoom_2024.loc[kiwoom_2024['요일'] == 6, '주중/주말(공휴일)'] = 1\n",
    "kiwoom_2024"
   ]
  },
  {
   "cell_type": "code",
   "execution_count": null,
   "metadata": {},
   "outputs": [],
   "source": [
    "kiwoom_2024.loc[kiwoom_2024['주중/주말(공휴일)'] != 1, '주중/주말(공휴일)'] = 0\n",
    "kiwoom_2024"
   ]
  },
  {
   "cell_type": "code",
   "execution_count": null,
   "metadata": {},
   "outputs": [],
   "source": [
    "kiwoom_2024['주중/주말(공휴일)'] = kiwoom_2024['주중/주말(공휴일)'].astype('int')\n",
    "kiwoom_2024"
   ]
  },
  {
   "cell_type": "markdown",
   "metadata": {},
   "source": []
  },
  {
   "cell_type": "markdown",
   "metadata": {},
   "source": [
    "----\n",
    "#### 2022~2023년 원정팀별 평균 관중 수"
   ]
  },
  {
   "cell_type": "code",
   "execution_count": null,
   "metadata": {},
   "outputs": [],
   "source": [
    "# 데이터 불러오기 (kiwoom_2022_2023 DataFrame)\n",
    "data = kiwoom_2022_2023.groupby('원정팀')['관중 수'].mean().sort_values()\n",
    "\n",
    "# 막대 그래프 생성\n",
    "plt.figure(figsize=(10, 6))\n",
    "plt.bar(data.index, data.values, color='skyblue')  # 요일 이름 사용\n",
    "plt.xlabel(\"원정팀\")\n",
    "plt.ylabel(\"평균 관중 수\")\n",
    "plt.ylim(3000,10000)\n",
    "plt.title(\"KBO 리그 원정팀별 평균 관중 수(2022~2023년)\")\n",
    "\n",
    "# 그래프 표시\n",
    "plt.show()"
   ]
  },
  {
   "cell_type": "markdown",
   "metadata": {},
   "source": [
    "> KT 경기가 가장 평균 관중 수가 가장 낮고, 롯데 경기가 가장 높다. <br>\n",
    "> 상관 관계를 위해 위의 데이터를 수치화 작업하자 <br>\n",
    "> KT -> 1<br>\n",
    "> NC -> 2<br>\n",
    "> 두산 -> 3<br>\n",
    "> 삼성 -> 4<br>\n",
    "> LG -> 5<br>\n",
    "> SSG -> 6<br>\n",
    "> 한화 -> 7<br>\n",
    "> KIA -> 8<br>\n",
    "> 롯데 -> 9<br>"
   ]
  },
  {
   "cell_type": "code",
   "execution_count": null,
   "metadata": {},
   "outputs": [],
   "source": [
    "# 변환 맵 정의\n",
    "away_mapping = {\n",
    "    'KT': 1,\n",
    "    'NC': 2,\n",
    "    '두산': 3,\n",
    "    '삼성': 4,\n",
    "    'LG': 5,\n",
    "    'SSG': 6,\n",
    "    '한화': 7,\n",
    "    'KIA': 8,\n",
    "    '롯데': 9\n",
    "}\n",
    "\n",
    "# 변환 적용\n",
    "kiwoom_2022_2023['원정팀'].replace(away_mapping, inplace=True)\n",
    "kiwoom_2024['원정팀'].replace(away_mapping, inplace=True)"
   ]
  },
  {
   "cell_type": "code",
   "execution_count": null,
   "metadata": {},
   "outputs": [],
   "source": [
    "kiwoom_2022_2023"
   ]
  },
  {
   "cell_type": "code",
   "execution_count": null,
   "metadata": {},
   "outputs": [],
   "source": [
    "# column 이름 문자열로 바꾸기\n",
    "kiwoom_2022_2023.columns = kiwoom_2022_2023.columns.astype(str)\n",
    "kiwoom_2024.columns = kiwoom_2024.columns.astype(str)"
   ]
  },
  {
   "cell_type": "code",
   "execution_count": null,
   "metadata": {},
   "outputs": [],
   "source": [
    "kiwoom_2022_2023 = kiwoom_2022_2023.drop(['날짜','연도','월'], axis=1)\n",
    "kiwoom_2024 = kiwoom_2024.drop(['날짜','연도','월'], axis=1)"
   ]
  },
  {
   "cell_type": "code",
   "execution_count": null,
   "metadata": {},
   "outputs": [],
   "source": [
    "# # One-Hot Encoding 작업\n",
    "# # 원정팀\n",
    "# away_encoding = pd.get_dummies(kiwoom_2022_2023['원정팀'])\n",
    "# kiwoom_2022_2023 = kiwoom_2022_2023.join(away_encoding)"
   ]
  },
  {
   "cell_type": "code",
   "execution_count": null,
   "metadata": {},
   "outputs": [],
   "source": [
    "# # One-Hot Encoding 작업\n",
    "# # 원정팀\n",
    "# away_encoding = pd.get_dummies(kiwoom_2024['원정팀'])\n",
    "# kiwoom_2024 = kiwoom_2024.join(away_encoding)"
   ]
  },
  {
   "cell_type": "code",
   "execution_count": null,
   "metadata": {},
   "outputs": [],
   "source": [
    "kiwoom_2022_2023.head()"
   ]
  },
  {
   "cell_type": "code",
   "execution_count": null,
   "metadata": {},
   "outputs": [],
   "source": [
    "kiwoom_2024.head()"
   ]
  },
  {
   "cell_type": "code",
   "execution_count": null,
   "metadata": {},
   "outputs": [],
   "source": [
    "# 2022-2023년 데이터 정리\n",
    "# One-Hot Encoding 부분을 boolean에서 int로 변환\n",
    "kiwoom_2022_2023.iloc[:,8:] = kiwoom_2022_2023.iloc[:,8:].astype('int')\n",
    "# column 이름 문자열로 바꾸기\n",
    "kiwoom_2022_2023.columns = kiwoom_2022_2023.columns.astype(str)\n",
    "# Target인 관중 수를 제외한 나머지 원본 Feature 부분 제외하고 데이터 불러오기\n",
    "kiwoom_2022_2023 = pd.concat([kiwoom_2022_2023['관중 수'],kiwoom_2022_2023['요일'],kiwoom_2022_2023['시작시간'],kiwoom_2022_2023['주중/주말(공휴일)'],kiwoom_2022_2023.iloc[:,8:]],axis=1)\n",
    "kiwoom_2022_2023.head(10)"
   ]
  },
  {
   "cell_type": "code",
   "execution_count": null,
   "metadata": {},
   "outputs": [],
   "source": [
    "# 2024년 데이터 정리\n",
    "# One-Hot Encoding 부분을 boolean에서 int로 변환\n",
    "kiwoom_2024.iloc[:,8:] = kiwoom_2024.iloc[:,8:].astype('int')\n",
    "# column 이름 문자열로 바꾸기\n",
    "kiwoom_2024.columns = kiwoom_2024.columns.astype(str)\n",
    "# Target인 관중 수를 제외한 나머지 원본 Feature 부분 제외하고 데이터 불러오기\n",
    "kiwoom_2024 = pd.concat([kiwoom_2024['관중 수'],kiwoom_2024['요일'],kiwoom_2024['시작시간'],kiwoom_2024['주중/주말(공휴일)'],kiwoom_2024.iloc[:,8:]],axis=1)\n",
    "kiwoom_2024.head(10)"
   ]
  },
  {
   "cell_type": "code",
   "execution_count": null,
   "metadata": {},
   "outputs": [],
   "source": [
    "# 분석한 Target과 Feature 열만 가져오기\n",
    "kiwoom_2022_2023 = \\\n",
    "    pd.concat(\n",
    "        [\n",
    "            kiwoom_2022_2023['관중 수'],\n",
    "            kiwoom_2022_2023['요일'],\n",
    "            kiwoom_2022_2023['시작시간']\n",
    "        ],\n",
    "        axis=1\n",
    "        )\n",
    "kiwoom_2022_2023.head(10)"
   ]
  },
  {
   "cell_type": "code",
   "execution_count": null,
   "metadata": {},
   "outputs": [],
   "source": []
  },
  {
   "cell_type": "code",
   "execution_count": null,
   "metadata": {},
   "outputs": [],
   "source": [
    "kiwoom_2022_2023.corr()"
   ]
  },
  {
   "cell_type": "code",
   "execution_count": null,
   "metadata": {},
   "outputs": [],
   "source": [
    "# 2022-2023 데이터 임시 저장\n",
    "# kiwoom_2022_2023.to_csv('./Data/2022-2023_One-hot.csv')"
   ]
  },
  {
   "cell_type": "markdown",
   "metadata": {},
   "source": [
    "----\n",
    "## 관중 수 범위 찾기"
   ]
  },
  {
   "cell_type": "code",
   "execution_count": null,
   "metadata": {},
   "outputs": [],
   "source": [
    "# k-mean로 관중 수 범위 나눌 k 값 찾기\n",
    "from sklearn.preprocessing import StandardScaler\n",
    "from sklearn.cluster import KMeans\n",
    "\n",
    "# 데이터 전처리: 타깃 컬럼과 피쳐 컬럼 분리\n",
    "features = kiwoom_2022_2023.drop(columns=['관중 수'])\n",
    "target = kiwoom_2022_2023['관중 수']\n",
    "\n",
    "attendance_shape = np.array(target).reshape(-1,1)\n",
    "\n",
    "# 특성 표준화\n",
    "scaler = StandardScaler()\n",
    "features_scaled = scaler.fit_transform(attendance_shape)\n",
    "\n",
    "# 엘보우 방법을 사용하여 최적의 클러스터 수 찾기\n",
    "sse = []\n",
    "k_range = range(3, 15)  # 3부터 15까지의 k 값에 대해 확인\n",
    "\n",
    "for k in k_range:\n",
    "    kmeans = KMeans(n_clusters=k)\n",
    "    kmeans.fit(attendance_shape)\n",
    "    sse.append(kmeans.inertia_)\n",
    "\n",
    "# 엘보우 그래프 그리기\n",
    "plt.figure(figsize=(10, 6))\n",
    "plt.plot(k_range, sse, marker='o')\n",
    "plt.xlabel('Number of clusters (k)')\n",
    "plt.ylabel('Sum of squared distances (SSE)')\n",
    "plt.title('Elbow Method For Optimal k')\n",
    "plt.grid(True)\n",
    "plt.show()\n"
   ]
  },
  {
   "cell_type": "markdown",
   "metadata": {},
   "source": [
    "> k값의 최적은 5이므로, 관중 수는 5구간으로 나누는 것이 적합."
   ]
  },
  {
   "cell_type": "code",
   "execution_count": null,
   "metadata": {},
   "outputs": [],
   "source": [
    "# K-means 클러스터링\n",
    "kmeans = KMeans(n_clusters=5)\n",
    "clusters = kmeans.fit_predict(attendance_shape)\n",
    "clusters\n",
    "\n",
    "# 클러스터 라벨을 데이터프레임에 추가\n",
    "kiwoom_2022_2023['Cluster'] = clusters\n",
    "\n",
    "# 각 클러스터의 관중 수 범위 계산\n",
    "cluster_ranges = {}\n",
    "\n",
    "for cluster in range(5):\n",
    "    cluster_data = \\\n",
    "        kiwoom_2022_2023[kiwoom_2022_2023['Cluster'] == cluster]\n",
    "    min_attendance = \\\n",
    "        cluster_data['관중 수'].min()\n",
    "    max_attendance = \\\n",
    "        cluster_data['관중 수'].max()\n",
    "    cluster_ranges[cluster] = (min_attendance, max_attendance)\n",
    "\n",
    "# 클러스터의 관중 수 범위를 정렬\n",
    "sorted_cluster_ranges = \\\n",
    "sorted(cluster_ranges.items(), key=lambda x: x[1])\n",
    "sorted_cluster_ranges"
   ]
  },
  {
   "cell_type": "markdown",
   "metadata": {},
   "source": [
    "> 관중 수를 클러스터링으로 분류 결과 <br>  \n",
    "~3500 -> 1 <br>\n",
    "3500~6000 -> 2 <br>\n",
    "6000~9000 -> 3 <br>\n",
    "9000~13000 -> 4 <br>\n",
    "13000~ -> 5 <br>"
   ]
  },
  {
   "cell_type": "code",
   "execution_count": null,
   "metadata": {},
   "outputs": [],
   "source": [
    "# 규칙에 따라 관중 수를 분류하여 새로운 컬럼에 할당\n",
    "kiwoom_2022_2023['관중수 분류'] = \\\n",
    "    pd.cut(kiwoom_2022_2023['관중 수'], \n",
    "    bins=[0, 3500, 6000, 9000, 13000, float('inf')], \n",
    "    labels=[1, 2, 3, 4, 5], \n",
    "    right=False)"
   ]
  },
  {
   "cell_type": "code",
   "execution_count": null,
   "metadata": {},
   "outputs": [],
   "source": [
    "kiwoom_2022_2023 = \\\n",
    "kiwoom_2022_2023.drop(['Cluster','관중 수'], axis=1)\n",
    "kiwoom_2022_2023"
   ]
  },
  {
   "cell_type": "code",
   "execution_count": null,
   "metadata": {},
   "outputs": [],
   "source": [
    "# 규칙에 따라 관중 수를 분류하여 새로운 컬럼에 할당\n",
    "kiwoom_2024['관중수 분류'] = pd.cut(kiwoom_2024['관중 수'], \n",
    "                                    bins=[0, 3500, 6000, 9000, 13000, float('inf')], \n",
    "                                    labels=[1, 2, 3, 4, 5], \n",
    "                                    right=False)"
   ]
  },
  {
   "cell_type": "code",
   "execution_count": null,
   "metadata": {},
   "outputs": [],
   "source": [
    "kiwoom_2024 = kiwoom_2024.drop(['관중 수'], axis=1)\n",
    "kiwoom_2024"
   ]
  },
  {
   "cell_type": "code",
   "execution_count": null,
   "metadata": {},
   "outputs": [],
   "source": [
    "# plt.scatter(\n",
    "#     x=kiwoom_2022_2023.index,\n",
    "#     y=kiwoom_2022_2023['관중 수'],\n",
    "#     c=clusters\n",
    "# )"
   ]
  },
  {
   "cell_type": "code",
   "execution_count": null,
   "metadata": {},
   "outputs": [],
   "source": []
  },
  {
   "cell_type": "code",
   "execution_count": null,
   "metadata": {},
   "outputs": [],
   "source": []
  },
  {
   "cell_type": "markdown",
   "metadata": {},
   "source": [
    "----\n",
    "# 예측\n"
   ]
  },
  {
   "cell_type": "code",
   "execution_count": null,
   "metadata": {},
   "outputs": [],
   "source": [
    "# 각 column별 상관계수 확인\n",
    "kiwoom_2022_2023.corr()"
   ]
  },
  {
   "cell_type": "code",
   "execution_count": null,
   "metadata": {},
   "outputs": [],
   "source": [
    "# Randomforest 회귀모델로 정확도율 구하기\n",
    "from sklearn.model_selection import train_test_split\n",
    "from sklearn.ensemble import RandomForestRegressor\n",
    "from sklearn.metrics import mean_squared_error\n",
    "\n",
    "# 데이터 준비 (x는 피쳐, y는 타겟)\n",
    "x = kiwoom_2022_2023.drop(['관중 수'], axis=1)\n",
    "y = kiwoom_2022_2023['관중 수']\n",
    "\n",
    "# 학습 데이터와 테스트 데이터로 분리\n",
    "x_train, x_test, y_train, y_test = train_test_split(x, y, test_size=0.2)\n",
    "\n",
    "# 랜덤 포레스트 회귀모델 학습\n",
    "rf_regressor = RandomForestRegressor()\n",
    "rf_regressor.fit(x_train, y_train)\n",
    "\n",
    "# 테스트 데이터에 대한 예측\n",
    "y_pred = rf_regressor.predict(x_test)\n",
    "\n",
    "# 오차 계산 (평균 제곱 오차)\n",
    "mse = mean_squared_error(y_test, y_pred)\n",
    "# print(\"Mean Squared Error:\", mse)\n",
    "\n",
    "# MAPE 계산 함수 정의\n",
    "def mean_absolute_percentage_error(y_true, y_pred):\n",
    "    y_true, y_pred = np.array(y_true), np.array(y_pred)\n",
    "    print(y_pred.round(0))\n",
    "    print(y_true)\n",
    "    # return np.mean(np.abs((y_true - y_pred) / y_true)) * 100\n",
    "    return (1 - np.mean(np.abs((y_true - y_pred) / y_true))) * 100\n",
    "\n",
    "\n",
    "# MAPE 계산\n",
    "mape = mean_absolute_percentage_error(y_test, y_pred)\n",
    "print(\"정확도율:\", mape.round(0), \"%\")"
   ]
  },
  {
   "cell_type": "markdown",
   "metadata": {},
   "source": [
    "----\n",
    "### 랜덤포레스트 클러스터링 예측"
   ]
  },
  {
   "cell_type": "code",
   "execution_count": null,
   "metadata": {},
   "outputs": [],
   "source": [
    "from sklearn.model_selection import train_test_split\n",
    "from sklearn.metrics import accuracy_score\n",
    "from sklearn.model_selection import cross_val_score\n",
    "from sklearn.ensemble import RandomForestClassifier\n",
    "from sklearn import tree\n",
    "from sklearn.neighbors import KNeighborsClassifier\n",
    "from sklearn.svm import SVC"
   ]
  },
  {
   "cell_type": "markdown",
   "metadata": {},
   "source": [
    "----\n",
    "### Train, test 구분"
   ]
  },
  {
   "cell_type": "code",
   "execution_count": null,
   "metadata": {},
   "outputs": [],
   "source": [
    "# 데이터 준비 (x는 피쳐, y는 타겟)\n",
    "x = kiwoom_2022_2023.drop(['관중수 분류'], axis=1)\n",
    "y = kiwoom_2022_2023['관중수 분류']\n",
    "\n",
    "# 실제 데이터 준비\n",
    "test_x = kiwoom_2024.drop(['관중수 분류'], axis=1)\n",
    "test_y = kiwoom_2024['관중수 분류']"
   ]
  },
  {
   "cell_type": "code",
   "execution_count": null,
   "metadata": {},
   "outputs": [],
   "source": [
    "def cross_validation(classifier, features, labels):\n",
    "    cv_scores = []\n",
    "    for i in range(10):\n",
    "        scores = cross_val_score(\n",
    "            classifier, # 함수\n",
    "            features,\n",
    "            labels,\n",
    "            cv=10,\n",
    "            scoring='accuracy',\n",
    "            n_jobs=-1\n",
    "        )\n",
    "        cv_scores.append(round(scores.mean()*100,0))\n",
    "    return cv_scores"
   ]
  },
  {
   "cell_type": "code",
   "execution_count": null,
   "metadata": {},
   "outputs": [],
   "source": [
    "# 랜덤포레스트\n",
    "cross_validation(RandomForestClassifier(), x, y)"
   ]
  },
  {
   "cell_type": "code",
   "execution_count": null,
   "metadata": {},
   "outputs": [],
   "source": [
    "# 랜덤포레스트\n",
    "cross_validation(SVC(), x, y)"
   ]
  },
  {
   "cell_type": "code",
   "execution_count": null,
   "metadata": {},
   "outputs": [],
   "source": [
    "# 의사결정 나무\n",
    "cross_validation(tree.DecisionTreeClassifier(), x, y)"
   ]
  },
  {
   "cell_type": "code",
   "execution_count": null,
   "metadata": {},
   "outputs": [],
   "source": [
    "# KNN\n",
    "cross_validation(KNeighborsClassifier(n_neighbors=5), x, y)"
   ]
  },
  {
   "cell_type": "code",
   "execution_count": null,
   "metadata": {},
   "outputs": [],
   "source": []
  },
  {
   "cell_type": "code",
   "execution_count": null,
   "metadata": {},
   "outputs": [],
   "source": []
  },
  {
   "cell_type": "code",
   "execution_count": null,
   "metadata": {},
   "outputs": [],
   "source": []
  },
  {
   "cell_type": "code",
   "execution_count": null,
   "metadata": {},
   "outputs": [],
   "source": []
  },
  {
   "cell_type": "code",
   "execution_count": null,
   "metadata": {},
   "outputs": [],
   "source": []
  },
  {
   "cell_type": "code",
   "execution_count": null,
   "metadata": {},
   "outputs": [],
   "source": []
  },
  {
   "cell_type": "code",
   "execution_count": null,
   "metadata": {},
   "outputs": [],
   "source": []
  },
  {
   "cell_type": "code",
   "execution_count": null,
   "metadata": {},
   "outputs": [],
   "source": []
  },
  {
   "cell_type": "code",
   "execution_count": null,
   "metadata": {},
   "outputs": [],
   "source": []
  },
  {
   "cell_type": "code",
   "execution_count": null,
   "metadata": {},
   "outputs": [],
   "source": [
    "# 학습 데이터와 테스트 데이터로 분리\n",
    "x_train, x_test, y_train, y_test = train_test_split(x, y, test_size=0.2)\n",
    "\n",
    "# 랜덤 포레스트 분류모델 학습\n",
    "svm_clf = SVC()\n",
    "# rf_clf_01 = RandomForestClassifier()\n",
    "svm_clf.fit(x_train, y_train)\n",
    "# rf_clf.fit(x, y)\n",
    "\n",
    "# 테스트 데이터에 대한 예측\n",
    "# y_pred = rf_clf.predict(x_test)\n",
    "# y_pred_t = rf_clf.predict(test_x)\n",
    "scores = cross_val_score(svm_clf, x_test, y_test, cv=5)\n",
    "\n",
    "print(\"교차 검증 점수:\", scores*100)\n",
    "print(f\"평균 교차 검증 점수:{round(scores.mean()*100)}%\")    \n",
    "\n",
    "# 정확도 계산\n",
    "# accuracy = accuracy_score(y_test, y_pred)\n",
    "# accuracy_t = accuracy_score(test_y, y_pred_t)\n",
    "# print(f\"학습예측율 : {scores * 100:.2f}%({i+1}회)\")\n",
    "# print(f\"학습예측율 : {accuracy * 100:.2f}%({i+1}회)\")\n",
    "# print(f\"실제예측율 : {accuracy * 100:.2f}%({i+1}회)\")"
   ]
  },
  {
   "cell_type": "code",
   "execution_count": null,
   "metadata": {},
   "outputs": [],
   "source": [
    "# Train용 함수\n",
    "def trainML(model):\n",
    "    # 5번 반복하여 학습 및 평가\n",
    "    for i in range(5):\n",
    "\n",
    "        # 학습 데이터와 테스트 데이터로 분리\n",
    "        x_train, x_test, y_train, y_test = train_test_split(x, y, test_size=0.2)\n",
    "        \n",
    "        # 랜덤 포레스트 분류모델 학습\n",
    "        dtree = model\n",
    "        dtree.fit(x_train, y_train)\n",
    "\n",
    "        # 테스트 데이터에 대한 예측\n",
    "        y_pred = dtree.predict(x_test)\n",
    "\n",
    "        # 정확도 계산\n",
    "        accuracy = accuracy_score(y_test, y_pred)\n",
    "        accuracies.append(accuracy)\n",
    "        print(f\"예측율 : {accuracy * 100:.2f}%({i+1}회)\")"
   ]
  },
  {
   "cell_type": "markdown",
   "metadata": {},
   "source": [
    "----\n",
    "### 랜덤포레스트"
   ]
  },
  {
   "cell_type": "code",
   "execution_count": null,
   "metadata": {},
   "outputs": [],
   "source": [
    "trainML(RandomForestClassifier())"
   ]
  },
  {
   "cell_type": "markdown",
   "metadata": {},
   "source": [
    "----\n",
    "### 의사결정나무"
   ]
  },
  {
   "cell_type": "markdown",
   "metadata": {},
   "source": [
    "----\n",
    "### KNN"
   ]
  },
  {
   "cell_type": "markdown",
   "metadata": {},
   "source": [
    "----\n",
    "### SVM"
   ]
  },
  {
   "cell_type": "code",
   "execution_count": null,
   "metadata": {},
   "outputs": [],
   "source": [
    "trainML(SVC(probability=True).fit(x, y))"
   ]
  },
  {
   "cell_type": "code",
   "execution_count": null,
   "metadata": {},
   "outputs": [],
   "source": [
    "from sklearn.preprocessing import PolynomialFeatures\n",
    "from sklearn.preprocessing import StandardScaler\n",
    "from sklearn.linear_model import RidgeClassifier"
   ]
  },
  {
   "cell_type": "code",
   "execution_count": null,
   "metadata": {},
   "outputs": [],
   "source": [
    "# 학습 데이터와 테스트 데이터로 분리\n",
    "x_train, x_test, y_train, y_test = train_test_split(x, y, test_size=0.2)\n",
    "\n",
    "# 특성 만들기\n",
    "poly = PolynomialFeatures(degree=7, include_bias=False)\n",
    "poly.fit(x_train)\n",
    "train_poly = poly.transform(x_train)\n",
    "test_poly = poly.transform(x_test)\n",
    "\n",
    "# 데이터 스케일링\n",
    "ss = StandardScaler()\n",
    "ss.fit(x_train)\n",
    "train_scaled = ss.transform(x_train)\n",
    "test_scaled = ss.transform(x_test)"
   ]
  },
  {
   "cell_type": "code",
   "execution_count": null,
   "metadata": {},
   "outputs": [],
   "source": [
    "# 분류기 학습\n",
    "clf = RidgeClassifier()\n",
    "clf.fit(train_scaled, y_train)\n",
    "\n",
    "# 교차 검증 수행 및 평가\n",
    "scores = cross_val_score(clf, x_test, y_test, cv=5)\n",
    "print(\"교차 검증 점수:\", scores*100)\n",
    "print(\"평균 교차 검증 점수:\", scores.mean()*100,'%')"
   ]
  },
  {
   "cell_type": "code",
   "execution_count": null,
   "metadata": {},
   "outputs": [],
   "source": [
    "# 분류기 학습\n",
    "kncf = KNeighborsClassifier(n_neighbors=5)\n",
    "kncf.fit(train_scaled, y_train)\n",
    "\n",
    "# 교차 검증 수행 및 평가\n",
    "scores = cross_val_score(kncf, x_test, y_test, cv=5)\n",
    "print(\"교차 검증 점수:\", scores*100)\n",
    "print(\"평균 교차 검증 점수:\", scores.mean()*100,'%')"
   ]
  },
  {
   "cell_type": "code",
   "execution_count": null,
   "metadata": {},
   "outputs": [],
   "source": [
    "# Feature\n",
    "kiwoom_2022_2023_input = kiwoom_2022_2023.drop(['관중수 분류'], axis=1).to_numpy()\n",
    "kiwoom_2022_2023_input[:5]"
   ]
  },
  {
   "cell_type": "code",
   "execution_count": null,
   "metadata": {},
   "outputs": [],
   "source": [
    "# Target Data\n",
    "kiwoom_2022_2023_target = kiwoom_2022_2023['관중수 분류'].to_numpy()\n",
    "kiwoom_2022_2023_target[:5]"
   ]
  },
  {
   "cell_type": "code",
   "execution_count": null,
   "metadata": {},
   "outputs": [],
   "source": [
    "# Train과 Test 분리\n",
    "from sklearn.model_selection import train_test_split\n",
    "\n",
    "train_input, test_input, train_target, test_target = \\\n",
    "    train_test_split(kiwoom_2022_2023_input, kiwoom_2022_2023_target, stratify=kiwoom_2022_2023_target, random_state=42)"
   ]
  },
  {
   "cell_type": "code",
   "execution_count": null,
   "metadata": {},
   "outputs": [],
   "source": [
    "# 표준화 작업\n",
    "from sklearn.preprocessing import StandardScaler\n",
    "\n",
    "ss = StandardScaler()\n",
    "ss.fit(train_input)\n",
    "train_scaled = ss.transform(train_input)\n",
    "test_scaled = ss.transform(test_input)"
   ]
  },
  {
   "cell_type": "code",
   "execution_count": null,
   "metadata": {},
   "outputs": [],
   "source": [
    "from sklearn.linear_model import SGDClassifier"
   ]
  },
  {
   "cell_type": "code",
   "execution_count": null,
   "metadata": {},
   "outputs": [],
   "source": [
    "sc = SGDClassifier(\n",
    "    loss='log', # 로지스틱 손실함수\n",
    "    # loss='log_loss', # 로지스틱 손실함수\n",
    "    max_iter=10, # 반복 횟수\n",
    "    random_state=42\n",
    "    )"
   ]
  },
  {
   "cell_type": "code",
   "execution_count": null,
   "metadata": {},
   "outputs": [],
   "source": [
    "sc.fit(train_scaled, train_target)"
   ]
  },
  {
   "cell_type": "code",
   "execution_count": null,
   "metadata": {},
   "outputs": [],
   "source": [
    "print('train score :', sc.score(train_scaled, train_target))\n",
    "print('test score :', sc.score(test_scaled, test_target))"
   ]
  },
  {
   "cell_type": "code",
   "execution_count": null,
   "metadata": {},
   "outputs": [],
   "source": [
    "sc.partial_fit(train_scaled, train_target)\n",
    "print('train score :', sc.score(train_scaled, train_target))\n",
    "print('test score :', sc.score(test_scaled, test_target))"
   ]
  },
  {
   "cell_type": "code",
   "execution_count": null,
   "metadata": {},
   "outputs": [],
   "source": [
    "import numpy as np\n",
    "sc = SGDClassifier(loss='log', random_state=42)\n",
    "# sc = SGDClassifier(loss='log_loss', random_state=42)\n",
    "train_score = []\n",
    "test_score = []\n",
    "\n",
    "classes = np.unique(train_target)\n",
    "classes"
   ]
  },
  {
   "cell_type": "code",
   "execution_count": null,
   "metadata": {},
   "outputs": [],
   "source": [
    "for _ in range(0,300):\n",
    "    sc.partial_fit(train_scaled, train_target, classes=classes)\n",
    "    train_score.append(sc.score(train_scaled, train_target))\n",
    "    test_score.append(sc.score(test_scaled, test_target))"
   ]
  },
  {
   "cell_type": "code",
   "execution_count": null,
   "metadata": {},
   "outputs": [],
   "source": [
    "# 그래프로\n",
    "import matplotlib.pyplot as plt\n",
    "\n",
    "plt.plot(train_score)\n",
    "plt.plot(test_score)\n",
    "\n",
    "plt.show()"
   ]
  },
  {
   "cell_type": "code",
   "execution_count": null,
   "metadata": {},
   "outputs": [],
   "source": [
    "# 새롭게 시작\n",
    "sc = SGDClassifier(\n",
    "    loss='log',\n",
    "    # loss='log_loss',\n",
    "    max_iter=100,\n",
    "    tol=None # 조기종료 시점이나 현재는 정지기준이 없고 반복기간동안의 최적의 손실값보다 큰 경우 조기 종료.\n",
    ")\n",
    "sc.fit(train_scaled, train_target)\n",
    "print(sc.score(train_scaled, train_target))\n",
    "print(sc.score(test_scaled, test_target))"
   ]
  },
  {
   "cell_type": "code",
   "execution_count": null,
   "metadata": {},
   "outputs": [],
   "source": [
    "# 새롭게 시작\n",
    "sc = SGDClassifier(\n",
    "    loss='hinge', # SVM\n",
    "    # loss='log_loss',\n",
    "    max_iter=100,\n",
    "    tol=1.0e-2 # 기본값.\n",
    ")\n",
    "sc.fit(train_scaled, train_target)\n",
    "print(sc.score(train_scaled, train_target))\n",
    "print(sc.score(test_scaled, test_target))"
   ]
  },
  {
   "cell_type": "code",
   "execution_count": null,
   "metadata": {},
   "outputs": [],
   "source": [
    "# 새롭게 시작\n",
    "sc = SGDClassifier(\n",
    "    loss='perceptron', # SVM\n",
    "    # loss='log_loss',\n",
    "    max_iter=100,\n",
    "    tol=1.0e-2 # 기본값.\n",
    ")\n",
    "sc.fit(train_scaled, train_target)\n",
    "print(sc.score(train_scaled, train_target))\n",
    "print(sc.score(test_scaled, test_target))"
   ]
  },
  {
   "cell_type": "code",
   "execution_count": null,
   "metadata": {},
   "outputs": [],
   "source": []
  }
 ],
 "metadata": {
  "kernelspec": {
   "display_name": "base",
   "language": "python",
   "name": "python3"
  },
  "language_info": {
   "codemirror_mode": {
    "name": "ipython",
    "version": 3
   },
   "file_extension": ".py",
   "mimetype": "text/x-python",
   "name": "python",
   "nbconvert_exporter": "python",
   "pygments_lexer": "ipython3",
   "version": "3.11.7"
  }
 },
 "nbformat": 4,
 "nbformat_minor": 2
}
